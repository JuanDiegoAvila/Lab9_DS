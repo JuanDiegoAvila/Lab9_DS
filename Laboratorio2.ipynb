{
 "cells": [
  {
   "cell_type": "markdown",
   "metadata": {},
   "source": [
    "# Laboratorio 2 - Series de tiempo\n",
    "- Diego Jose Franco 20240\n",
    "- Juan Diego Avila 20090"
   ]
  },
  {
   "cell_type": "markdown",
   "metadata": {},
   "source": [
    "## 1.1 - Precios Promedio Nacionales Diarios"
   ]
  },
  {
   "cell_type": "code",
   "execution_count": 1,
   "metadata": {},
   "outputs": [],
   "source": [
    "import pandas as pd\n",
    "import seaborn as sns\n",
    "import matplotlib.pyplot as plt\n",
    "\n",
    "\n",
    "# Cargamos los datos\n",
    "precios_promedio_2021 = pd.read_csv('./Data/Precios-Promedio-Nacionales-Diarios-2021.csv')\n",
    "precios_promedio_2022 = pd.read_csv('./Data/Precios-Promedio-Nacionales-Diarios-2022.csv')\n",
    "precios_promedio_2023 = pd.read_csv('./Data/Precios-Promedio-Nacionales-Diarios-2023.csv')\n",
    "\n",
    "# Se renombra la ultima columna a Glp Cilindro Lbs.\n",
    "precios_promedio_2021.rename(columns={'Unnamed: 7': 'Glp Cilindro Lbs.'}, inplace=True)\n",
    "precios_promedio_2022.rename(columns={'Unnamed: 7': 'Glp Cilindro Lbs.'}, inplace=True)\n",
    "precios_promedio_2023.rename(columns={'Unnamed: 7': 'Glp Cilindro Lbs.'}, inplace=True)\n",
    "\n",
    "# Se unen los tres dataframes en uno solo\n",
    "precios_promedio = pd.concat([precios_promedio_2021, precios_promedio_2022, precios_promedio_2023])\n",
    "\n",
    "# Se eliminan las columnas que no se van a utilizar\n",
    "precios_promedio = precios_promedio.drop(columns=['Bunker'])"
   ]
  },
  {
   "cell_type": "code",
   "execution_count": 2,
   "metadata": {},
   "outputs": [],
   "source": [
    "cuantitativas = [\n",
    "    \"Tipo de Cambio\",\n",
    "    \"Superior\",\n",
    "    \"Regular\",\n",
    "    \"Diesel\",\n",
    "    \"Glp Cilindro 25Lbs.\",\n",
    "    \"Glp Cilindro Lbs.\"\n",
    "]\n"
   ]
  },
  {
   "cell_type": "code",
   "execution_count": 3,
   "metadata": {},
   "outputs": [
    {
     "name": "stdout",
     "output_type": "stream",
     "text": [
      "0      1-01-21\n",
      "1      2-01-21\n",
      "2      3-01-21\n",
      "3      4-01-21\n",
      "4      5-01-21\n",
      "        ...   \n",
      "213    2-08-23\n",
      "214    3-08-23\n",
      "215    4-08-23\n",
      "216    5-08-23\n",
      "217    6-08-23\n",
      "Name: FECHA, Length: 948, dtype: object\n"
     ]
    },
    {
     "name": "stderr",
     "output_type": "stream",
     "text": [
      "C:\\Users\\Juan_Avila\\AppData\\Local\\Temp\\ipykernel_9416\\1152350091.py:19: FutureWarning: The default value of numeric_only in DataFrameGroupBy.mean is deprecated. In a future version, numeric_only will default to False. Either specify numeric_only or select only columns which should be valid for the function.\n",
      "  grupo = precios_promedio.groupby(['AÑO']).mean()\n"
     ]
    }
   ],
   "source": [
    "meses_dict = {\n",
    "    'ene': '01', 'feb': '02', 'mar': '03', 'abr': '04', 'may': '05', 'jun': '06',\n",
    "    'jul': '07', 'ago': '08', 'sep': '09', 'oct': '10', 'nov': '11', 'dic': '12'\n",
    "}\n",
    "\n",
    "def reemplazar_mes(fecha):\n",
    "    partes = fecha.split('-')\n",
    "    partes[1] = meses_dict[partes[1]]\n",
    "    return '-'.join(partes)\n",
    "\n",
    "precios_promedio['FECHA'] = precios_promedio['FECHA'].apply(reemplazar_mes)\n",
    "print(precios_promedio['FECHA'])\n",
    "    \n",
    "\n",
    "precios_promedio['FECHA'] = pd.to_datetime(precios_promedio['FECHA'], format='%d-%m-%y')\n",
    "precios_promedio['AÑO'] = precios_promedio['FECHA'].dt.year\n",
    "precios_promedio['MES'] = precios_promedio['FECHA'].dt.month"
   ]
  },
  {
   "cell_type": "markdown",
   "metadata": {},
   "source": [
    "## 1.2 - Consumo de Combustible"
   ]
  },
  {
   "cell_type": "code",
   "execution_count": 5,
   "metadata": {},
   "outputs": [],
   "source": [
    "import numpy as np\n",
    "import pandas as pd\n",
    "\n",
    "# Cargamos los datos\n",
    "consumo = pd.read_csv('./Data/CONSUMO.csv')"
   ]
  },
  {
   "cell_type": "code",
   "execution_count": 6,
   "metadata": {},
   "outputs": [],
   "source": [
    "import pandas as pd\n",
    "import matplotlib.pyplot as plt\n",
    "import seaborn as sns\n",
    "\n",
    "cuantitativas = [\"Gasolina regular\", \"Gasolina superior\", \"Diesel alto azufre\", \"Gas licuado de petróleo\", \"Total\"]\n",
    "\n",
    "# casteamos las variables a float\n",
    "for col in cuantitativas:\n",
    "    consumo[col] = consumo[col].str.replace(',', '').astype(float)\n",
    "\n",
    "consumo_numericas = consumo[cuantitativas]\n",
    "\n"
   ]
  },
  {
   "cell_type": "code",
   "execution_count": 7,
   "metadata": {},
   "outputs": [],
   "source": [
    "\n",
    "años_dict = {\n",
    "    '00': '2000', '01': '2001', '02': '2002', '03': '2003', '04': '2004', '05': '2005',\n",
    "    '06': '2006', '07': '2007', '08': '2008', '09': '2009', '10': '2010', '11': '2011',\n",
    "    '12': '2012', '13': '2013', '14': '2014', '15': '2015', '16': '2016', '17': '2017',\n",
    "    '18': '2018', '19': '2019', '20': '2020', '21': '2021', '22': '2022', '23': '2023',\n",
    "}\n",
    "\n",
    "meses_dict = {\n",
    "    'ene': '01', 'feb': '02', 'mar': '03', 'abr': '04', 'may': '05', 'jun': '06',\n",
    "    'jul': '07', 'ago': '08', 'sep': '09', 'oct': '10', 'nov': '11', 'dic': '12'\n",
    "}\n",
    "\n",
    "def reemplazar_mes(fecha):\n",
    "    partes = fecha.split('-')\n",
    "    partes[0] = meses_dict[partes[0]]\n",
    "    partes[1] = años_dict[partes[1]]\n",
    "    return '-'.join(partes)\n",
    "\n",
    "consumo['Fecha'] = consumo['Fecha'].apply(reemplazar_mes)\n",
    "\n",
    "consumo['Fecha'] = pd.to_datetime(consumo['Fecha'], format='%m-%Y')"
   ]
  },
  {
   "cell_type": "code",
   "execution_count": 12,
   "metadata": {},
   "outputs": [],
   "source": [
    "\n",
    "consumo['AÑO'] = consumo['Fecha'].dt.year\n",
    "consumo['MES'] = consumo['Fecha'].dt.month"
   ]
  },
  {
   "cell_type": "code",
   "execution_count": 13,
   "metadata": {},
   "outputs": [],
   "source": [
    "import pandas as pd\n",
    "import numpy as np\n",
    "import matplotlib.pyplot as plt\n",
    "import statsmodels.tsa as tsa\n",
    "import statsmodels as sm\n",
    "from datetime import datetime\n",
    "import os\n",
    "from statsmodels.tsa.seasonal import seasonal_decompose\n",
    "from statsmodels.tsa.stattools import adfuller\n",
    "from statsmodels.tsa.stattools import acf, pacf\n",
    "import tensorflow as tf\n",
    "from sklearn.preprocessing import StandardScaler\n",
    "from keras.models import Sequential\n",
    "from keras.layers import Dense\n",
    "from keras.layers import LSTM"
   ]
  },
  {
   "cell_type": "code",
   "execution_count": 14,
   "metadata": {},
   "outputs": [
    {
     "name": "stdout",
     "output_type": "stream",
     "text": [
      "\n",
      " Parsed Data:\n"
     ]
    }
   ],
   "source": [
    "tf.random.set_seed(123)\n",
    "años_dict = {\n",
    "    '00': '2000', '01': '2001', '02': '2002', '03': '2003', '04': '2004', '05': '2005',\n",
    "    '06': '2006', '07': '2007', '08': '2008', '09': '2009', '10': '2010', '11': '2011',\n",
    "    '12': '2012', '13': '2013', '14': '2014', '15': '2015', '16': '2016', '17': '2017',\n",
    "    '18': '2018', '19': '2019', '20': '2020', '21': '2021', '22': '2022', '23': '2023',\n",
    "}\n",
    "\n",
    "meses_dict = {\n",
    "    'ene': '01', 'feb': '02', 'mar': '03', 'abr': '04', 'may': '05', 'jun': '06',\n",
    "    'jul': '07', 'ago': '08', 'sep': '09', 'oct': '10', 'nov': '11', 'dic': '12'\n",
    "}\n",
    "\n",
    "def dateparse(fecha):\n",
    "    partes = fecha.split('-')\n",
    "    partes[0] = meses_dict[partes[0]]\n",
    "    partes[1] = años_dict[partes[1]]\n",
    "    return pd.to_datetime('-'.join(partes), format='%m-%Y')\n",
    "\n",
    "consumo = pd.read_csv('./Data/CONSUMO.csv', parse_dates=['Fecha'], index_col='Fecha',date_parser=dateparse)\n",
    "print ('\\n Parsed Data:')\n",
    "consumo.head()\n",
    "\n",
    "# casteamos las variables a float\n",
    "for col in cuantitativas:\n",
    "    consumo[col] = consumo[col].str.replace(',', '').astype(float)\n",
    "\n",
    "train_size = int(len(consumo) * 0.7)\n",
    "train_consumo, test_consumo = consumo[0:train_size], consumo[train_size:len(consumo)]\n",
    "\n",
    "tr_consumo = train_consumo.copy()\n"
   ]
  },
  {
   "cell_type": "code",
   "execution_count": 15,
   "metadata": {},
   "outputs": [
    {
     "name": "stdout",
     "output_type": "stream",
     "text": [
      "\n",
      " Parsed Data:\n"
     ]
    }
   ],
   "source": [
    "# precios_promedio\n",
    "\n",
    "def dateparse(fecha):\n",
    "    partes = fecha.split('-')\n",
    "    partes[1] = meses_dict[partes[1]]\n",
    "    return pd.to_datetime('-'.join(partes), format='%d-%m-%y')\n",
    "\n",
    "precios_promedio_2021 = pd.read_csv('./Data/Precios-Promedio-Nacionales-Diarios-2021.csv', parse_dates=['FECHA'], index_col='FECHA',date_parser=dateparse)\n",
    "precios_promedio_2022 = pd.read_csv('./Data/Precios-Promedio-Nacionales-Diarios-2022.csv', parse_dates=['FECHA'], index_col='FECHA',date_parser=dateparse)\n",
    "precios_promedio_2023 = pd.read_csv('./Data/Precios-Promedio-Nacionales-Diarios-2023.csv', parse_dates=['FECHA'], index_col='FECHA',date_parser=dateparse)\n",
    "\n",
    "pp = pd.concat([precios_promedio_2021, precios_promedio_2022, precios_promedio_2023])\n",
    "\n",
    "# Se eliminan las columnas que no se van a utilizar\n",
    "pp = pp.drop(columns=['Bunker'])\n",
    "\n",
    "print ('\\n Parsed Data:')\n",
    "train_size = int(len(pp) * 0.7)\n",
    "train_precios, test_precios = pp[0:train_size], pp[train_size:(len(pp))]\n",
    "tr_precios = train_precios.copy()"
   ]
  },
  {
   "cell_type": "markdown",
   "metadata": {},
   "source": [
    "### 3.1 Consumo mensual gasolina regular"
   ]
  },
  {
   "cell_type": "code",
   "execution_count": 16,
   "metadata": {},
   "outputs": [
    {
     "name": "stdout",
     "output_type": "stream",
     "text": [
      "Resultados del Test de Dicker-Fuller para la variable Gasolina regular\n",
      "Estadístico de prueba          2.335407\n",
      "p-value                        0.998977\n",
      "# de retardos usados          12.000000\n",
      "# de observaciones usadas    183.000000\n",
      "Critical Value (1%)           -3.466598\n",
      "Critical Value (5%)           -2.877467\n",
      "Critical Value (10%)          -2.575260\n",
      "dtype: float64\n"
     ]
    }
   ],
   "source": [
    "# for column in cuantitativas:\n",
    "print('Resultados del Test de Dicker-Fuller para la variable Gasolina regular')\n",
    "dfTest = adfuller(tr_consumo['Gasolina regular'], autolag='AIC')\n",
    "salidaDf = pd.Series(dfTest[0:4], index=['Estadístico de prueba','p-value','# de retardos usados','# de observaciones usadas'])\n",
    "for key,value in dfTest[4].items():\n",
    "        salidaDf['Critical Value (%s)'%key] = value\n",
    "print(salidaDf)\n",
    "    "
   ]
  },
  {
   "cell_type": "code",
   "execution_count": 20,
   "metadata": {},
   "outputs": [
    {
     "name": "stdout",
     "output_type": "stream",
     "text": [
      "Resultados del Test de Dickey Fuller para una diferenciación de la serie\n",
      "Estadístico de prueba         -3.948106\n",
      "p-value                        0.001708\n",
      "# de retardos usados          11.000000\n",
      "# de observaciones usadas    183.000000\n",
      "Critical Value (1%)           -3.466598\n",
      "Critical Value (5%)           -2.877467\n",
      "Critical Value (10%)          -2.575260\n",
      "dtype: float64\n"
     ]
    }
   ],
   "source": [
    "consumo_diff = tr_consumo.diff()\n",
    "consumo_diff.dropna(inplace=True)\n",
    "\n",
    "# for column in cuantitativas:\n",
    "print('Resultados del Test de Dickey Fuller para una diferenciación de la serie')\n",
    "dfTest = adfuller(consumo_diff['Gasolina regular'])\n",
    "salidaDf = pd.Series(dfTest[0:4], index=['Estadístico de prueba','p-value','# de retardos usados','# de observaciones usadas'])\n",
    "for key,value in dfTest[4].items():\n",
    "        salidaDf['Critical Value (%s)'%key] = value\n",
    "print(salidaDf)\n",
    "\n",
    "consumo_log = tr_consumo.copy()"
   ]
  },
  {
   "cell_type": "code",
   "execution_count": 21,
   "metadata": {},
   "outputs": [],
   "source": [
    "consumo_log_diff = pd.DataFrame(columns = cuantitativas)\n",
    "\n",
    "# for column in cuantitativas:\n",
    "\n",
    "consumo_log_diff_act = consumo_log['Gasolina regular'].diff().diff()\n",
    "consumo_log_diff_act.dropna(inplace = True)\n",
    "consumo_log_diff['Gasolina regular'] = consumo_log_diff_act\n",
    "tsa_acf = acf(consumo_log_diff_act, nlags=5,fft=False)\n",
    "tsa_pacf = pacf(consumo_log_diff_act, nlags=36)\n",
    "\n"
   ]
  },
  {
   "cell_type": "code",
   "execution_count": 22,
   "metadata": {},
   "outputs": [],
   "source": [
    "consumo_log_D = consumo_log.diff(12)\n",
    "consumo_log_D.dropna(inplace=True)"
   ]
  },
  {
   "cell_type": "markdown",
   "metadata": {},
   "source": [
    "Luego de hacer la diferenciacion se puede ver que se anulan los coeficientes despues de p = 4. Se probara con p = 4, d = 3, q = 2"
   ]
  },
  {
   "cell_type": "code",
   "execution_count": 23,
   "metadata": {},
   "outputs": [
    {
     "name": "stderr",
     "output_type": "stream",
     "text": [
      "c:\\Users\\Juan_Avila\\AppData\\Local\\Programs\\Python\\Python310\\lib\\site-packages\\statsmodels\\tsa\\base\\tsa_model.py:471: ValueWarning: No frequency information was provided, so inferred frequency MS will be used.\n",
      "  self._init_dates(dates, freq)\n",
      "c:\\Users\\Juan_Avila\\AppData\\Local\\Programs\\Python\\Python310\\lib\\site-packages\\statsmodels\\tsa\\base\\tsa_model.py:471: ValueWarning: No frequency information was provided, so inferred frequency MS will be used.\n",
      "  self._init_dates(dates, freq)\n"
     ]
    },
    {
     "name": "stdout",
     "output_type": "stream",
     "text": [
      "==============================================================================\n",
      "                 coef    std err          z      P>|z|      [0.025      0.975]\n",
      "------------------------------------------------------------------------------\n",
      "ar.L1         -0.7093      0.101     -7.007      0.000      -0.908      -0.511\n",
      "ma.L1         -0.9649      0.029    -33.848      0.000      -1.021      -0.909\n",
      "ar.S.L12      -0.6394      0.145     -4.421      0.000      -0.923      -0.356\n",
      "ar.S.L24      -0.3632      0.156     -2.332      0.020      -0.668      -0.058\n",
      "sigma2      5.276e+09   6.58e-12   8.02e+20      0.000    5.28e+09    5.28e+09\n",
      "==============================================================================\n",
      "Resultados de AIC (Akaike information criterion)\n",
      "Modelo 141= 3845.4161401764086\n",
      "Resultados de BIC (Bayesian information criterion)\n",
      "Modelo 141= 3860.6332657610046\n"
     ]
    }
   ],
   "source": [
    "from statsmodels.tsa.statespace.sarimax import SARIMAX\n",
    "\n",
    "modelo141 = SARIMAX(consumo_log['Gasolina regular'], order=(1,4,1), seasonal_order=(2,1,0,12), enforce_stationarity=False, enforce_invertibility=False)\n",
    "resultado_m141 = modelo141.fit()\n",
    "print(resultado_m141.summary().tables[1])\n",
    "\n",
    "print(\"Resultados de AIC (Akaike information criterion)\")\n",
    "print(\"Modelo 141=\",resultado_m141.aic)\n",
    "print(\"Resultados de BIC (Bayesian information criterion)\")\n",
    "print(\"Modelo 141=\",resultado_m141.bic)\n"
   ]
  },
  {
   "cell_type": "markdown",
   "metadata": {},
   "source": [
    "Los residuos de las columnas tienen una distribucion normal y en el correlograma hay pocas autocorrelaciones significativas, por lo que se puede decir que el modelo es bueno."
   ]
  },
  {
   "cell_type": "code",
   "execution_count": 24,
   "metadata": {},
   "outputs": [
    {
     "name": "stderr",
     "output_type": "stream",
     "text": [
      "c:\\Users\\Juan_Avila\\AppData\\Local\\Programs\\Python\\Python310\\lib\\site-packages\\statsmodels\\tsa\\base\\tsa_model.py:471: ValueWarning: No frequency information was provided, so inferred frequency MS will be used.\n",
      "  self._init_dates(dates, freq)\n",
      "c:\\Users\\Juan_Avila\\AppData\\Local\\Programs\\Python\\Python310\\lib\\site-packages\\statsmodels\\tsa\\base\\tsa_model.py:471: ValueWarning: No frequency information was provided, so inferred frequency MS will be used.\n",
      "  self._init_dates(dates, freq)\n"
     ]
    },
    {
     "name": "stdout",
     "output_type": "stream",
     "text": [
      "==============================================================================\n",
      "                 coef    std err          z      P>|z|      [0.025      0.975]\n",
      "------------------------------------------------------------------------------\n",
      "ar.L1         -1.6044      0.206     -7.790      0.000      -2.008      -1.201\n",
      "ar.L2         -1.5651      0.350     -4.474      0.000      -2.251      -0.879\n",
      "ar.L3         -0.8964      0.308     -2.908      0.004      -1.501      -0.292\n",
      "ar.L4         -0.3595      0.177     -2.030      0.042      -0.707      -0.012\n",
      "ma.L1         -0.9126      0.074    -12.322      0.000      -1.058      -0.767\n",
      "ar.S.L12      -0.5989      0.185     -3.231      0.001      -0.962      -0.236\n",
      "ar.S.L24      -0.2638      0.200     -1.319      0.187      -0.656       0.128\n",
      "sigma2      2.592e+09   4.35e-11   5.96e+19      0.000    2.59e+09    2.59e+09\n",
      "==============================================================================\n",
      "Resultados de AIC (Akaike information criterion)\n",
      "Modelo 441= 3654.8727185715566\n",
      "Resultados de BIC (Bayesian information criterion)\n",
      "Modelo 441= 3679.0637627383267\n"
     ]
    }
   ],
   "source": [
    "from statsmodels.tsa.statespace.sarimax import SARIMAX\n",
    "\n",
    "modelo441 = SARIMAX(consumo_log['Gasolina regular'], order=(4,4,1), seasonal_order=(2,1,0,12), enforce_stationarity=False, enforce_invertibility=False)\n",
    "resultado_m441 = modelo441.fit()\n",
    "print(resultado_m441.summary().tables[1])\n",
    "\n",
    "print(\"Resultados de AIC (Akaike information criterion)\")\n",
    "print(\"Modelo 441=\",resultado_m441.aic)\n",
    "print(\"Resultados de BIC (Bayesian information criterion)\")\n",
    "print(\"Modelo 441=\",resultado_m441.bic)"
   ]
  },
  {
   "cell_type": "code",
   "execution_count": 25,
   "metadata": {},
   "outputs": [
    {
     "name": "stderr",
     "output_type": "stream",
     "text": [
      "c:\\Users\\Juan_Avila\\AppData\\Local\\Programs\\Python\\Python310\\lib\\site-packages\\statsmodels\\tsa\\base\\tsa_model.py:471: ValueWarning: No frequency information was provided, so inferred frequency MS will be used.\n",
      "  self._init_dates(dates, freq)\n",
      "c:\\Users\\Juan_Avila\\AppData\\Local\\Programs\\Python\\Python310\\lib\\site-packages\\statsmodels\\tsa\\base\\tsa_model.py:471: ValueWarning: No frequency information was provided, so inferred frequency MS will be used.\n",
      "  self._init_dates(dates, freq)\n"
     ]
    }
   ],
   "source": [
    "\n",
    "modelo441 = SARIMAX(consumo_log['Gasolina regular'], order=(4,4,1), seasonal_order=(2,1,0,12), enforce_stationarity=False, enforce_invertibility=False)\n",
    "resultado_m441 = modelo441.fit()\n",
    "\n",
    "pred = resultado_m441.get_prediction(start=test_consumo['Gasolina regular']['2021':].index[0], dynamic=False)\n",
    "pred_ci = pred.conf_int()\n",
    "# ax = test_consumo['Gasolina regular']['2021':].plot(label='observed')\n",
    "# pred.predicted_mean.plot(ax=ax, label='One-step ahead Forecast', alpha=.7, figsize=(14, 4))\n",
    "# ax.fill_between( pred_ci.iloc[:,0],\n",
    "#                 pred_ci.iloc[:,1], color='k', alpha=.2)\n",
    "\n",
    "# # plt.xlim(test_consumo[column]['2023':].index[0], pred_ci.index[-1])\n",
    "# plt.title('Consumo de Gasolina regular')\n",
    "# plt.legend()\n",
    "# plt.show()\n",
    "\n"
   ]
  },
  {
   "cell_type": "code",
   "execution_count": 26,
   "metadata": {},
   "outputs": [
    {
     "name": "stderr",
     "output_type": "stream",
     "text": [
      "c:\\Users\\Juan_Avila\\AppData\\Local\\Programs\\Python\\Python310\\lib\\site-packages\\statsmodels\\tsa\\base\\tsa_model.py:471: ValueWarning: No frequency information was provided, so inferred frequency MS will be used.\n",
      "  self._init_dates(dates, freq)\n",
      "c:\\Users\\Juan_Avila\\AppData\\Local\\Programs\\Python\\Python310\\lib\\site-packages\\statsmodels\\tsa\\base\\tsa_model.py:471: ValueWarning: No frequency information was provided, so inferred frequency MS will be used.\n",
      "  self._init_dates(dates, freq)\n"
     ]
    }
   ],
   "source": [
    "\n",
    "modelo441 = SARIMAX(consumo_log['Gasolina regular'], order=(4,4,1), seasonal_order=(2,1,0,12), enforce_stationarity=False, enforce_invertibility=False)\n",
    "resultado_m441 = modelo441.fit()\n",
    "\n",
    "pred = resultado_m441.get_prediction(start=test_consumo['Gasolina regular']['2023':].index[0], dynamic=False)\n",
    "pred_ci = pred.conf_int()\n",
    "# ax = test_consumo['Gasolina regular']['2023':].plot(label='observed')\n",
    "# pred.predicted_mean.plot(ax=ax, label='One-step ahead Forecast', alpha=.7, figsize=(14, 4))\n",
    "# plt.title('Consumo de Gasolina regular')\n",
    "# plt.legend()\n",
    "# plt.show()"
   ]
  },
  {
   "cell_type": "markdown",
   "metadata": {},
   "source": [
    "### 3.2 Consumo mensual gasolina superior"
   ]
  },
  {
   "cell_type": "code",
   "execution_count": 27,
   "metadata": {},
   "outputs": [
    {
     "name": "stdout",
     "output_type": "stream",
     "text": [
      "Resultados del Test de Dicker-Fuller para la variable Gasolina superior\n",
      "Estadístico de prueba          0.466725\n",
      "p-value                        0.983826\n",
      "# de retardos usados          12.000000\n",
      "# de observaciones usadas    183.000000\n",
      "Critical Value (1%)           -3.466598\n",
      "Critical Value (5%)           -2.877467\n",
      "Critical Value (10%)          -2.575260\n",
      "dtype: float64\n"
     ]
    }
   ],
   "source": [
    "print('Resultados del Test de Dicker-Fuller para la variable Gasolina superior')\n",
    "dfTest = adfuller(tr_consumo['Gasolina superior'], autolag='AIC')\n",
    "salidaDf = pd.Series(dfTest[0:4], index=['Estadístico de prueba','p-value','# de retardos usados','# de observaciones usadas'])\n",
    "for key,value in dfTest[4].items():\n",
    "        salidaDf['Critical Value (%s)'%key] = value\n",
    "print(salidaDf)"
   ]
  },
  {
   "cell_type": "code",
   "execution_count": 28,
   "metadata": {},
   "outputs": [
    {
     "name": "stdout",
     "output_type": "stream",
     "text": [
      "Resultados del Test de Dickey Fuller para una diferenciación de la serie\n",
      "Estadístico de prueba         -4.253410\n",
      "p-value                        0.000534\n",
      "# de retardos usados          11.000000\n",
      "# de observaciones usadas    183.000000\n",
      "Critical Value (1%)           -3.466598\n",
      "Critical Value (5%)           -2.877467\n",
      "Critical Value (10%)          -2.575260\n",
      "dtype: float64\n"
     ]
    }
   ],
   "source": [
    "consumo_diff = tr_consumo.diff()\n",
    "consumo_diff.dropna(inplace=True)\n",
    "\n",
    "# for column in cuantitativas:\n",
    "print('Resultados del Test de Dickey Fuller para una diferenciación de la serie')\n",
    "dfTest = adfuller(consumo_diff['Gasolina superior'])\n",
    "salidaDf = pd.Series(dfTest[0:4], index=['Estadístico de prueba','p-value','# de retardos usados','# de observaciones usadas'])\n",
    "for key,value in dfTest[4].items():\n",
    "        salidaDf['Critical Value (%s)'%key] = value\n",
    "print(salidaDf)"
   ]
  },
  {
   "cell_type": "code",
   "execution_count": 29,
   "metadata": {},
   "outputs": [],
   "source": [
    "consumo_log_diff = pd.DataFrame(columns = cuantitativas)\n",
    "\n",
    "consumo_log_diff_act = consumo_log['Gasolina superior'].diff().diff()\n",
    "consumo_log_diff_act.dropna(inplace = True)\n",
    "consumo_log_diff['Gasolina superior'] = consumo_log_diff_act\n",
    "tsa_acf = acf(consumo_log_diff_act, nlags=5,fft=False)\n",
    "tsa_pacf = pacf(consumo_log_diff_act, nlags=36)"
   ]
  },
  {
   "cell_type": "markdown",
   "metadata": {},
   "source": []
  },
  {
   "cell_type": "code",
   "execution_count": 30,
   "metadata": {},
   "outputs": [],
   "source": [
    "consumo_log_D = consumo_log.diff(12)\n",
    "consumo_log_D.dropna(inplace=True)"
   ]
  },
  {
   "cell_type": "markdown",
   "metadata": {},
   "source": [
    "Luego de hacer la diferenciacion se puede ver que se anulan los coeficientes despues de p = 4. Se probara con p = 4, d = 3, q = 2"
   ]
  },
  {
   "cell_type": "code",
   "execution_count": 31,
   "metadata": {},
   "outputs": [
    {
     "name": "stderr",
     "output_type": "stream",
     "text": [
      "c:\\Users\\Juan_Avila\\AppData\\Local\\Programs\\Python\\Python310\\lib\\site-packages\\statsmodels\\tsa\\base\\tsa_model.py:471: ValueWarning: No frequency information was provided, so inferred frequency MS will be used.\n",
      "  self._init_dates(dates, freq)\n",
      "c:\\Users\\Juan_Avila\\AppData\\Local\\Programs\\Python\\Python310\\lib\\site-packages\\statsmodels\\tsa\\base\\tsa_model.py:471: ValueWarning: No frequency information was provided, so inferred frequency MS will be used.\n",
      "  self._init_dates(dates, freq)\n"
     ]
    },
    {
     "name": "stdout",
     "output_type": "stream",
     "text": [
      "==============================================================================\n",
      "                 coef    std err          z      P>|z|      [0.025      0.975]\n",
      "------------------------------------------------------------------------------\n",
      "ar.L1         -0.6747      0.100     -6.779      0.000      -0.870      -0.480\n",
      "ma.L1         -0.9583      0.019    -51.241      0.000      -0.995      -0.922\n",
      "ar.S.L12      -0.5655      0.121     -4.660      0.000      -0.803      -0.328\n",
      "ar.S.L24      -0.3114      0.151     -2.060      0.039      -0.608      -0.015\n",
      "sigma2      5.942e+09   4.07e-12   1.46e+21      0.000    5.94e+09    5.94e+09\n",
      "==============================================================================\n"
     ]
    }
   ],
   "source": [
    "from statsmodels.tsa.statespace.sarimax import SARIMAX\n",
    "\n",
    "modelo141 = SARIMAX(consumo_log['Gasolina superior'], order=(1,4,1), seasonal_order=(2,1,0,12), enforce_stationarity=False, enforce_invertibility=False)\n",
    "resultado_m141 = modelo141.fit()\n",
    "print(resultado_m141.summary().tables[1])\n",
    "\n",
    "# resultado_m141.plot_diagnostics(figsize=(18, 8))\n",
    "# plt.show()\n"
   ]
  },
  {
   "cell_type": "code",
   "execution_count": 32,
   "metadata": {},
   "outputs": [
    {
     "name": "stderr",
     "output_type": "stream",
     "text": [
      "c:\\Users\\Juan_Avila\\AppData\\Local\\Programs\\Python\\Python310\\lib\\site-packages\\statsmodels\\tsa\\base\\tsa_model.py:471: ValueWarning: No frequency information was provided, so inferred frequency MS will be used.\n",
      "  self._init_dates(dates, freq)\n",
      "c:\\Users\\Juan_Avila\\AppData\\Local\\Programs\\Python\\Python310\\lib\\site-packages\\statsmodels\\tsa\\base\\tsa_model.py:471: ValueWarning: No frequency information was provided, so inferred frequency MS will be used.\n",
      "  self._init_dates(dates, freq)\n"
     ]
    },
    {
     "name": "stdout",
     "output_type": "stream",
     "text": [
      "==============================================================================\n",
      "                 coef    std err          z      P>|z|      [0.025      0.975]\n",
      "------------------------------------------------------------------------------\n",
      "ar.L1         -1.4547      0.174     -8.361      0.000      -1.796      -1.114\n",
      "ar.L2         -1.3600      0.317     -4.293      0.000      -1.981      -0.739\n",
      "ar.L3         -0.7682      0.328     -2.339      0.019      -1.412      -0.124\n",
      "ar.L4         -0.2777      0.214     -1.299      0.194      -0.697       0.141\n",
      "ma.L1         -0.9979      0.083    -11.975      0.000      -1.161      -0.835\n",
      "ar.S.L12      -0.3624      0.143     -2.540      0.011      -0.642      -0.083\n",
      "ar.S.L24      -0.1097      0.209     -0.525      0.599      -0.519       0.300\n",
      "sigma2      3.516e+09   5.63e-11   6.25e+19      0.000    3.52e+09    3.52e+09\n",
      "==============================================================================\n",
      "Resultados de AIC (Akaike information criterion)\n",
      "Modelo 441= 3700.0819191731657\n",
      "Resultados de BIC (Bayesian information criterion)\n",
      "Modelo 441= 3724.272963339936\n",
      "Resultados de AIC (Akaike information criterion)\n",
      "Modelo 141= 3874.663172210811\n",
      "Resultados de BIC (Bayesian information criterion)\n",
      "Modelo 141= 3889.880297795407\n"
     ]
    }
   ],
   "source": [
    "from statsmodels.tsa.statespace.sarimax import SARIMAX\n",
    "\n",
    "modelo441 = SARIMAX(consumo_log['Gasolina superior'], order=(4,4,1), seasonal_order=(2,1,0,12), enforce_stationarity=False, enforce_invertibility=False)\n",
    "resultado_m441 = modelo441.fit()\n",
    "print(resultado_m441.summary().tables[1])\n",
    "\n",
    "# resultado_m441.plot_diagnostics(figsize=(18, 8))\n",
    "# plt.show()\n",
    "\n",
    "print(\"Resultados de AIC (Akaike information criterion)\")\n",
    "print(\"Modelo 441=\",resultado_m441.aic)\n",
    "print(\"Resultados de BIC (Bayesian information criterion)\")\n",
    "print(\"Modelo 441=\",resultado_m441.bic)\n",
    "\n",
    "print(\"Resultados de AIC (Akaike information criterion)\")\n",
    "print(\"Modelo 141=\",resultado_m141.aic)\n",
    "print(\"Resultados de BIC (Bayesian information criterion)\")\n",
    "print(\"Modelo 141=\",resultado_m141.bic)"
   ]
  },
  {
   "cell_type": "markdown",
   "metadata": {},
   "source": [
    "#### Prediccion con el modelo 441"
   ]
  },
  {
   "cell_type": "code",
   "execution_count": 33,
   "metadata": {},
   "outputs": [
    {
     "name": "stderr",
     "output_type": "stream",
     "text": [
      "c:\\Users\\Juan_Avila\\AppData\\Local\\Programs\\Python\\Python310\\lib\\site-packages\\statsmodels\\tsa\\base\\tsa_model.py:471: ValueWarning: No frequency information was provided, so inferred frequency MS will be used.\n",
      "  self._init_dates(dates, freq)\n",
      "c:\\Users\\Juan_Avila\\AppData\\Local\\Programs\\Python\\Python310\\lib\\site-packages\\statsmodels\\tsa\\base\\tsa_model.py:471: ValueWarning: No frequency information was provided, so inferred frequency MS will be used.\n",
      "  self._init_dates(dates, freq)\n"
     ]
    }
   ],
   "source": [
    "modelo441 = SARIMAX(consumo_log['Gasolina superior'], order=(4,4,1), seasonal_order=(2,1,0,12), enforce_stationarity=False, enforce_invertibility=False)\n",
    "resultado_m441 = modelo441.fit()\n",
    "\n",
    "pred = resultado_m441.get_prediction(start=test_consumo['Gasolina superior']['2021':].index[0], dynamic=False)\n",
    "pred_ci = pred.conf_int()\n",
    "# ax = test_consumo['Gasolina superior']['2021':].plot(label='observed')\n",
    "# pred.predicted_mean.plot(ax=ax, label='One-step ahead Forecast', alpha=.7, figsize=(14, 4))\n",
    "# ax.fill_between( pred_ci.iloc[:,0],\n",
    "#                 pred_ci.iloc[:,1], color='k', alpha=.2)\n",
    "\n",
    "# # plt.xlim(test_consumo[column]['2023':].index[0], pred_ci.index[-1])\n",
    "# plt.title('Consumo de Gasolina superior')\n",
    "# plt.legend()\n",
    "# plt.show()"
   ]
  },
  {
   "cell_type": "code",
   "execution_count": 34,
   "metadata": {},
   "outputs": [
    {
     "name": "stderr",
     "output_type": "stream",
     "text": [
      "c:\\Users\\Juan_Avila\\AppData\\Local\\Programs\\Python\\Python310\\lib\\site-packages\\statsmodels\\tsa\\base\\tsa_model.py:471: ValueWarning: No frequency information was provided, so inferred frequency MS will be used.\n",
      "  self._init_dates(dates, freq)\n",
      "c:\\Users\\Juan_Avila\\AppData\\Local\\Programs\\Python\\Python310\\lib\\site-packages\\statsmodels\\tsa\\base\\tsa_model.py:471: ValueWarning: No frequency information was provided, so inferred frequency MS will be used.\n",
      "  self._init_dates(dates, freq)\n"
     ]
    }
   ],
   "source": [
    "modelo441 = SARIMAX(consumo_log['Gasolina superior'], order=(4,4,1), seasonal_order=(2,1,0,12), enforce_stationarity=False, enforce_invertibility=False)\n",
    "resultado_m441 = modelo441.fit()\n",
    "\n",
    "pred = resultado_m441.get_prediction(start=test_consumo['Gasolina superior']['2023':].index[0], dynamic=False)\n",
    "pred_ci = pred.conf_int()\n",
    "# ax = test_consumo['Gasolina superior']['2023':].plot(label='observed')\n",
    "# pred.predicted_mean.plot(ax=ax, label='One-step ahead Forecast', alpha=.7, figsize=(14, 4))\n",
    "# plt.title('Consumo de Gasolina superior')\n",
    "# plt.legend()\n",
    "# plt.show()"
   ]
  },
  {
   "cell_type": "markdown",
   "metadata": {},
   "source": [
    "### 3.3 Precios Promedio Nacionales de gasolina superior"
   ]
  },
  {
   "cell_type": "code",
   "execution_count": 35,
   "metadata": {},
   "outputs": [],
   "source": [
    "mediaMovil = tr_precios['Superior'].rolling(window=12).mean()\n",
    "desviacionMovil = tr_precios['Superior'].rolling(window=12).std()\n",
    "\n",
    "# original = plt.plot(tr_precios['Superior'], color='blue', label='Original')\n",
    "# media = plt.plot(mediaMovil, color='red', label='Media Movil')\n",
    "# desviacion = plt.plot(desviacionMovil, color='green', label='Desviacion Estandar Movil')\n",
    "# plt.legend(loc='best')\n",
    "# plt.title('Media y Desviacion Estandar Movil')\n",
    "# plt.show(block=False)"
   ]
  },
  {
   "cell_type": "code",
   "execution_count": null,
   "metadata": {},
   "outputs": [
    {
     "name": "stdout",
     "output_type": "stream",
     "text": [
      "Resultados del Test de Dicker-Fuller para la variable Gasolina superior\n",
      "Estadístico de prueba         -1.777205\n",
      "p-value                        0.391836\n",
      "# de retardos usados           7.000000\n",
      "# de observaciones usadas    655.000000\n",
      "Critical Value (1%)           -3.440373\n",
      "Critical Value (5%)           -2.865963\n",
      "Critical Value (10%)          -2.569125\n",
      "dtype: float64\n"
     ]
    }
   ],
   "source": [
    "print('Resultados del Test de Dicker-Fuller para la variable Gasolina superior')\n",
    "dfTest = adfuller(tr_precios['Superior'], autolag='AIC')\n",
    "salidaDf = pd.Series(dfTest[0:4], index=['Estadístico de prueba','p-value','# de retardos usados','# de observaciones usadas'])\n",
    "for key,value in dfTest[4].items():\n",
    "        salidaDf['Critical Value (%s)'%key] = value\n",
    "print(salidaDf)"
   ]
  },
  {
   "cell_type": "code",
   "execution_count": 38,
   "metadata": {},
   "outputs": [
    {
     "name": "stdout",
     "output_type": "stream",
     "text": [
      "Resultados del Test de Dickey Fuller para una diferenciación de la serie\n",
      "Estadístico de prueba       -7.455076e+00\n",
      "p-value                      5.539811e-11\n",
      "# de retardos usados         6.000000e+00\n",
      "# de observaciones usadas    6.550000e+02\n",
      "Critical Value (1%)         -3.440373e+00\n",
      "Critical Value (5%)         -2.865963e+00\n",
      "Critical Value (10%)        -2.569125e+00\n",
      "dtype: float64\n"
     ]
    }
   ],
   "source": [
    "precios_diff = tr_precios.diff()\n",
    "precios_diff.dropna(inplace=True)\n",
    "\n",
    "# for column in cuantitativas:\n",
    "print('Resultados del Test de Dickey Fuller para una diferenciación de la serie')\n",
    "dfTest = adfuller(precios_diff['Superior'])\n",
    "salidaDf = pd.Series(dfTest[0:4], index=['Estadístico de prueba','p-value','# de retardos usados','# de observaciones usadas'])\n",
    "for key,value in dfTest[4].items():\n",
    "        salidaDf['Critical Value (%s)'%key] = value\n",
    "print(salidaDf)\n",
    "\n",
    "precios_log = tr_precios.copy()"
   ]
  },
  {
   "cell_type": "code",
   "execution_count": 39,
   "metadata": {},
   "outputs": [],
   "source": [
    "precios_log_diff = pd.DataFrame(columns = cuantitativas)\n",
    "\n",
    "precios_log_diff_act = precios_log['Superior'].diff().diff()\n",
    "precios_log_diff_act.dropna(inplace = True)\n",
    "precios_log_diff['Superior'] = precios_log_diff_act\n",
    "tsa_acf = acf(precios_log_diff_act, nlags=5,fft=False)\n",
    "tsa_pacf = pacf(precios_log_diff_act, nlags=36)"
   ]
  },
  {
   "cell_type": "code",
   "execution_count": 40,
   "metadata": {},
   "outputs": [],
   "source": [
    "precios_log_D = precios_log.diff(12)\n",
    "precios_log_D.dropna(inplace=True)"
   ]
  },
  {
   "cell_type": "code",
   "execution_count": 41,
   "metadata": {},
   "outputs": [
    {
     "name": "stderr",
     "output_type": "stream",
     "text": [
      "c:\\Users\\Juan_Avila\\AppData\\Local\\Programs\\Python\\Python310\\lib\\site-packages\\statsmodels\\tsa\\base\\tsa_model.py:471: ValueWarning: No frequency information was provided, so inferred frequency D will be used.\n",
      "  self._init_dates(dates, freq)\n",
      "c:\\Users\\Juan_Avila\\AppData\\Local\\Programs\\Python\\Python310\\lib\\site-packages\\statsmodels\\tsa\\base\\tsa_model.py:471: ValueWarning: No frequency information was provided, so inferred frequency D will be used.\n",
      "  self._init_dates(dates, freq)\n"
     ]
    },
    {
     "name": "stdout",
     "output_type": "stream",
     "text": [
      "==============================================================================\n",
      "                 coef    std err          z      P>|z|      [0.025      0.975]\n",
      "------------------------------------------------------------------------------\n",
      "ar.L1          0.0056      0.072      0.077      0.939      -0.136       0.148\n",
      "ma.L1         -1.0000      4.033     -0.248      0.804      -8.904       6.904\n",
      "ar.S.L12      -0.6826      0.021    -31.981      0.000      -0.724      -0.641\n",
      "ar.S.L24      -0.3144      0.021    -14.803      0.000      -0.356      -0.273\n",
      "sigma2         0.2045      0.826      0.248      0.804      -1.414       1.823\n",
      "==============================================================================\n"
     ]
    }
   ],
   "source": [
    "from statsmodels.tsa.statespace.sarimax import SARIMAX\n",
    "\n",
    "modelo121 = SARIMAX(precios_log['Superior'], order=(1,2,1), seasonal_order=(2,1,0,12), enforce_stationarity=False, enforce_invertibility=False)\n",
    "resultado_m121 = modelo121.fit()\n",
    "print(resultado_m121.summary().tables[1])\n",
    "\n",
    "# resultado_m121.plot_diagnostics(figsize=(18, 8))\n",
    "# plt.show()\n"
   ]
  },
  {
   "cell_type": "code",
   "execution_count": 42,
   "metadata": {},
   "outputs": [
    {
     "name": "stderr",
     "output_type": "stream",
     "text": [
      "c:\\Users\\Juan_Avila\\AppData\\Local\\Programs\\Python\\Python310\\lib\\site-packages\\statsmodels\\tsa\\base\\tsa_model.py:471: ValueWarning: No frequency information was provided, so inferred frequency D will be used.\n",
      "  self._init_dates(dates, freq)\n",
      "c:\\Users\\Juan_Avila\\AppData\\Local\\Programs\\Python\\Python310\\lib\\site-packages\\statsmodels\\tsa\\base\\tsa_model.py:471: ValueWarning: No frequency information was provided, so inferred frequency D will be used.\n",
      "  self._init_dates(dates, freq)\n"
     ]
    },
    {
     "name": "stdout",
     "output_type": "stream",
     "text": [
      "==============================================================================\n",
      "                 coef    std err          z      P>|z|      [0.025      0.975]\n",
      "------------------------------------------------------------------------------\n",
      "ar.L1         -1.3708      0.025    -54.170      0.000      -1.420      -1.321\n",
      "ar.L2         -1.2205      0.046    -26.633      0.000      -1.310      -1.131\n",
      "ar.L3         -0.7994      0.045    -17.575      0.000      -0.889      -0.710\n",
      "ar.L4         -0.3085      0.030    -10.350      0.000      -0.367      -0.250\n",
      "ma.L1         -1.0000     18.058     -0.055      0.956     -36.393      34.393\n",
      "ar.S.L12      -0.6936      0.027    -25.579      0.000      -0.747      -0.640\n",
      "ar.S.L24      -0.3096      0.026    -12.139      0.000      -0.360      -0.260\n",
      "sigma2         0.3692      6.672      0.055      0.956     -12.708      13.446\n",
      "==============================================================================\n",
      "Resultados de AIC (Akaike information criterion)\n",
      "Modelo 121= 796.1954395001527\n",
      "Resultados de BIC (Bayesian information criterion)\n",
      "Modelo 121= 818.3761913419999\n",
      "Resultados de AIC (Akaike information criterion)\n",
      "Modelo 221= 1161.9608741710344\n",
      "Resultados de BIC (Bayesian information criterion)\n",
      "Modelo 221= 1197.3857163525113\n"
     ]
    }
   ],
   "source": [
    "from statsmodels.tsa.statespace.sarimax import SARIMAX\n",
    "\n",
    "modelo221 = SARIMAX(precios_log['Superior'], order=(4,4,1), seasonal_order=(2,1,0,12), enforce_stationarity=False, enforce_invertibility=False)\n",
    "resultado_m221 = modelo221.fit()\n",
    "print(resultado_m221.summary().tables[1])\n",
    "\n",
    "# resultado_m221.plot_diagnostics(figsize=(18, 8))\n",
    "# plt.show()\n",
    "\n",
    "print(\"Resultados de AIC (Akaike information criterion)\")\n",
    "print(\"Modelo 121=\",resultado_m121.aic)\n",
    "print(\"Resultados de BIC (Bayesian information criterion)\")\n",
    "print(\"Modelo 121=\",resultado_m121.bic)\n",
    "print(\"Resultados de AIC (Akaike information criterion)\")\n",
    "print(\"Modelo 221=\",resultado_m221.aic)\n",
    "print(\"Resultados de BIC (Bayesian information criterion)\")\n",
    "print(\"Modelo 221=\",resultado_m221.bic)"
   ]
  },
  {
   "cell_type": "markdown",
   "metadata": {},
   "source": [
    "#### Prediccion con el modelo 121"
   ]
  },
  {
   "cell_type": "code",
   "execution_count": 43,
   "metadata": {},
   "outputs": [],
   "source": [
    "pred = resultado_m121.get_prediction(start=test_precios['Superior']['2021':].index[0], dynamic=False)\n",
    "pred_ci = pred.conf_int()\n",
    "# ax = test_precios['Superior']['2021':].plot(label='observed')\n",
    "# pred.predicted_mean.plot(ax=ax, label='One-step ahead Forecast', alpha=.7, figsize=(14, 4))\n",
    "# ax.fill_between( pred_ci.iloc[:,0],\n",
    "#                 pred_ci.iloc[:,1], color='k', alpha=.2)\n",
    "\n",
    "# # plt.xlim(test_consumo[column]['2023':].index[0], pred_ci.index[-1])\n",
    "# plt.title('Precios de Gasolina superior')\n",
    "# plt.legend()\n",
    "# plt.show()"
   ]
  },
  {
   "cell_type": "code",
   "execution_count": 44,
   "metadata": {},
   "outputs": [],
   "source": [
    "pred = resultado_m121.get_prediction(start=test_precios['Superior']['2023':].index[0], dynamic=False)\n",
    "pred_ci = pred.conf_int()\n",
    "# ax = test_precios['Superior']['2023':].plot(label='observed')\n",
    "# pred.predicted_mean.plot(ax=ax, label='One-step ahead Forecast', alpha=.7, figsize=(14, 4))\n",
    "# plt.title('Precios de Gasolina superior')\n",
    "# plt.legend()\n",
    "# plt.show()"
   ]
  }
 ],
 "metadata": {
  "kernelspec": {
   "display_name": "Python 3",
   "language": "python",
   "name": "python3"
  },
  "language_info": {
   "codemirror_mode": {
    "name": "ipython",
    "version": 3
   },
   "file_extension": ".py",
   "mimetype": "text/x-python",
   "name": "python",
   "nbconvert_exporter": "python",
   "pygments_lexer": "ipython3",
   "version": "3.10.7"
  },
  "orig_nbformat": 4
 },
 "nbformat": 4,
 "nbformat_minor": 2
}
